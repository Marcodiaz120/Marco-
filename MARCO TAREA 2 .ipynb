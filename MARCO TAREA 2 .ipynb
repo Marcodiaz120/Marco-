{
 "cells": [
  {
   "cell_type": "code",
   "execution_count": 1,
   "metadata": {},
   "outputs": [
    {
     "name": "stdout",
     "output_type": "stream",
     "text": [
      "¡Bienvenido al juego de adivinanza!\n",
      "Intenta adivinar el número secreto, que está entre 1 y 100.\n",
      "El número secreto es mayor. Intenta de nuevo.\n",
      "El número secreto es menor. Intenta de nuevo.\n",
      "El número secreto es menor. Intenta de nuevo.\n",
      "El número secreto es menor. Intenta de nuevo.\n",
      "¡Felicidades! ¡Adivinaste el número secreto (20) en 5 intentos!\n"
     ]
    }
   ],
   "source": [
    "MARCO DIAZ 2 - 5212-23-2631\n",
    "\n",
    "import random\n",
    "\n",
    "numero_secreto = random.randint(1, 100)\n",
    "\n",
    "intentos = 0\n",
    "\n",
    "print(\"¡Bienvenido al juego de adivinanza!\")\n",
    "print(\"Intenta adivinar el número secreto, que está entre 1 y 100.\")\n",
    "\n",
    "while True:\n",
    "    # Incrementar el contador de intentos en cada iteración\n",
    "    intentos += 1\n",
    "    \n",
    "   \n",
    "    try:\n",
    "        guess = int(input(\"Ingresa tu número: \"))\n",
    "    except ValueError:\n",
    "        print(\"Por favor, ingresa un número entero válido.\")\n",
    "        continue\n",
    "\n",
    "    if guess == numero_secreto:\n",
    "        print(f\"¡Felicidades! ¡Adivinaste el número secreto ({numero_secreto}) en {intentos} intentos!\")\n",
    "        break\n",
    "    elif guess < numero_secreto:\n",
    "        print(\"El número secreto es mayor. Intenta de nuevo.\")\n",
    "    else:\n",
    "        print(\"El número secreto es menor. Intenta de nuevo.\")"
   ]
  }
 ],
 "metadata": {
  "interpreter": {
   "hash": "1a1af0ee75eeea9e2e1ee996c87e7a2b11a0bebd85af04bb136d915cefc0abce"
  },
  "kernelspec": {
   "display_name": "Python 3.11.5 64-bit",
   "language": "python",
   "name": "python3"
  },
  "language_info": {
   "codemirror_mode": {
    "name": "ipython",
    "version": 3
   },
   "file_extension": ".py",
   "mimetype": "text/x-python",
   "name": "python",
   "nbconvert_exporter": "python",
   "pygments_lexer": "ipython3",
   "version": "3.12.1"
  },
  "orig_nbformat": 4
 },
 "nbformat": 4,
 "nbformat_minor": 2
}
